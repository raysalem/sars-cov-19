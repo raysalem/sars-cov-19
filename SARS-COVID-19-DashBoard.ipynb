{
 "cells": [
  {
   "cell_type": "code",
   "execution_count": 1,
   "metadata": {},
   "outputs": [],
   "source": [
    "import datetime, urllib, re, math, json, requests,io\n",
    "from matplotlib import pyplot as plt\n",
    "import pandas as pd\n",
    "import numpy as np\n",
    "import scipy as sp\n",
    "from scipy import optimize\n",
    "from sklearn.linear_model import LinearRegression\n",
    "from IPython.display import display, HTML\n",
    "from ipywidgets import *\n",
    "\n",
    "\n",
    "try:\n",
    "    from packaging import version\n",
    "except ImportError:\n",
    "    !pip install packaging\n",
    "\n",
    "if( version.parse(pd.__version__) < version.parse(\"0.23.4\")):\n",
    "    print(\"update pandas\")\n",
    "    !pip install pandas --upgrade #--ignore-installed\n",
    "    print(version.parse(pd.__version__))"
   ]
  },
  {
   "cell_type": "code",
   "execution_count": 75,
   "metadata": {},
   "outputs": [],
   "source": [
    "#** pandas\n",
    "# change max number of rows to show\n",
    "pd.set_option('display.max_rows', 300)\n",
    "\n",
    "#** plotters formats\n",
    "\n",
    "import matplotlib.ticker as mticker\n",
    "import matplotlib.dates as mdates\n",
    "from cycler import cycler\n",
    "#* dpi size\n",
    "plt.rcParams['figure.dpi'] = 200\n",
    "myFmt = mdates.DateFormatter('%m/%d')\n",
    "myLocator = mticker.MultipleLocator(7)\n",
    "\n",
    "default_cycler = (cycler(marker=['.','*','+','x','s']) *\n",
    "                  cycler(color=['b','g','m','y','c','r']) *\n",
    "                  cycler(linestyle=['--']) *\n",
    "                  cycler(lw=[1]))\n",
    "\n",
    "plt.rc('axes', prop_cycle=default_cycler)\n",
    "\n",
    "#** panda data frame styles\n",
    "from IPython.display import display_html\n",
    "def display_side_by_side(*args):\n",
    "    html_str=''\n",
    "    for df in args:\n",
    "        html_str+=df.to_html()\n",
    "    display_html(html_str.replace('table','table style=\"display:inline\"'),raw=True)\n"
   ]
  },
  {
   "cell_type": "code",
   "execution_count": 3,
   "metadata": {},
   "outputs": [
    {
     "name": "stderr",
     "output_type": "stream",
     "text": [
      "C:\\ProgramData\\Anaconda3\\lib\\site-packages\\IPython\\core\\interactiveshell.py:3020: DtypeWarning: Columns (0,1) have mixed types. Specify dtype option on import or set low_memory=False.\n",
      "  interactivity=interactivity, compiler=compiler, result=result)\n"
     ]
    }
   ],
   "source": [
    "df = pd.read_csv(\"https://coronadatascraper.com/timeseries-tidy.csv\")\n",
    "df.fillna(\"-1\",inplace=True);\n",
    "dataTCS =df.set_index([\"city\",\"county\",\"state\",\"country\",\"type\"])\n",
    "dataTCS[\"date\"] = [datetime.datetime.strptime(ts,\"%Y-%m-%d\").date() for ts in dataTCS[\"date\"]]\n",
    "\n"
   ]
  },
  {
   "cell_type": "code",
   "execution_count": 133,
   "metadata": {
    "scrolled": false
   },
   "outputs": [],
   "source": [
    "def plotter(minCount=5000,minCountKpi=\"cases\",equalize=True,equalizeTrg=\"ITA\",equalizeCount=100, plotKpi=\"deaths\",logyPlot=True,\n",
    "           countryStateSweep=-1, reference=False):\n",
    "    idx = pd.IndexSlice\n",
    "        \n",
    "    fig,ax = plt.subplots(1,1)\n",
    "    if(equalize):\n",
    "        if(countryStateSweep==-1):\n",
    "            g = dataTCS.loc[idx[\"-1\",\"-1\",\"-1\",equalizeTrg,minCountKpi]]\n",
    "        else:\n",
    "            g = dataTCS.loc[idx[\"-1\",\"-1\",equalizeTrg,countryStateSweep,minCountKpi]]\n",
    "        gdts = g[g[\"value\"]>equalizeCount][\"date\"].values[0]\n",
    "        gdte = g[\"date\"].values[-1]\n",
    "        N = (gdte-gdts).days#sp.size(g[g[\"value\"]>equalizeCount][\"date\"].values)\n",
    "        print(\"Equalize to %s : date:%s to %s\" % (equalizeTrg,gdts,gdte))\n",
    "    if(reference):\n",
    "        for rate in np.array([8., 13., 21., 34.])/100.:            \n",
    "            d = g[g[\"date\"]>=gdts][\"date\"]\n",
    "            #y0= g[g[\"date\"]>=gdts][\"value\"].values[0]\n",
    "            y0=equalizeCount\n",
    "            M= sp.size(d.values)\n",
    "            ax.plot(d,y0*np.exp(rate * np.arange(0,M)),'k--',label=\"ref%.1f\"%(rate*100))\n",
    "    if(countryStateSweep==-1):\n",
    "        idxScreen = lambda ctr :idx[\"-1\",\"-1\",\"-1\",ctr,minCountKpi];\n",
    "        idxPlot   = lambda ctr :idx[\"-1\",\"-1\",\"-1\",ctr,plotKpi];\n",
    "        countries = dataTCS.index.levels[3]\n",
    "    else:\n",
    "        #ctr becomes a loop variable for state\n",
    "        idxScreen = lambda ctr :idx[\"-1\",\"-1\",ctr,countryStateSweep,minCountKpi];\n",
    "        idxPlot   = lambda ctr :idx[\"-1\",\"-1\",ctr,countryStateSweep,plotKpi];\n",
    "        # using states here\n",
    "        countries = np.sort(np.unique(dataTCS.loc[idx[\"-1\",\"-1\",:,countryStateSweep,\"cases\"]].index.values))[1:]\n",
    "    \n",
    "    # temp commented out    \n",
    "    for ctr in countries:    \n",
    "        if dataTCS.loc[idxScreen(ctr)].value[-1]< minCount: continue     \n",
    "        try:\n",
    "            g = dataTCS.loc[idxPlot(ctr),[\"date\",\"value\"]]        \n",
    "        except:\n",
    "            continue\n",
    "        if(equalize):\n",
    "            #check if sufficent samples exist to equlize\n",
    "            if False == (g[\"value\"]>equalizeCount).any():continue\n",
    "            dts = g[g[\"value\"]>equalizeCount][\"date\"].values[0]\n",
    "            print(\"%s --> %d\" %(ctr,(dts-gdts).days))\n",
    "            data= g[g[\"date\"]>=dts]\n",
    "            M = min(N,sp.size(data[\"value\"]))\n",
    "            ts = [(gdts + datetime.timedelta(i)) for i in range(0,sp.size(data[\"value\"]))] \n",
    "        else:\n",
    "            ts=g.index\n",
    "            data=g[\"value\"]\n",
    "            M=sp.size(g)\n",
    "        ax.plot(ts[0:M],data[\"value\"][0:M].values,label=ctr)    \n",
    "    \n",
    "    ax.xaxis.set_major_locator(myLocator)\n",
    "    ax.xaxis.set_major_formatter(myFmt)\n",
    "    ax.grid()\n",
    "    mm = max(dataTCS.loc[idx[:,:,:,:,plotKpi],\"value\"])\n",
    "    ax.set_ylim(equalizeCount * .75, mm * 1.25)\n",
    "    ax.set_xlim(gdts,gdte)\n",
    "    ax.legend()\n",
    "    fig.autofmt_xdate()    \n",
    "    #plt.title(\"%s vs time\"%plotKpi);\n",
    "\n",
    "    if(logyPlot) : plt.yscale('log')\n",
    "        \n",
    "# country screen\n",
    "minCount     = 10000\n",
    "minCountKpi  = \"cases\" # 'active', 'cases', 'deaths', 'growthFactor', 'recovered', 'tested'\n",
    "# Equalize (kpi same as plot)\n",
    "equalize     = True\n",
    "equalizeTrg  = \"ITA\"\n",
    "equalizeCount= 500\n",
    "\n",
    "# plot \n",
    "plotKpi      = \"cases\"\n",
    "logyPlot     = True\n",
    "#plotter(minCount,minCountKpi,equalize,equalizeTrg,equalizeCount, plotKpi,logyPlot)        "
   ]
  },
  {
   "cell_type": "code",
   "execution_count": 132,
   "metadata": {
    "scrolled": false
   },
   "outputs": [
    {
     "data": {
      "application/vnd.jupyter.widget-view+json": {
       "model_id": "e678b82abfcb4a83919f0a5d83b74712",
       "version_major": 2,
       "version_minor": 0
      },
      "text/plain": [
       "interactive(children=(FloatSlider(value=5000.0, description='minCount', max=1000000.0, step=10000.0), Dropdown…"
      ]
     },
     "metadata": {},
     "output_type": "display_data"
    }
   ],
   "source": [
    "from ipywidgets import *\n",
    "\n",
    "\n",
    "interact(plotter,minCount=(0,1e6,1e4),\n",
    "         minCountKpi=dataTCS.index.levels[4].unique().values,\n",
    "#         equalize=[True, False],\n",
    "         equalizeTrg=dataTCS.index.levels[3].unique().values,\n",
    "         equalizeCount=(0,10000),\n",
    "         plotKpi=dataTCS.index.levels[4].unique().values,\n",
    "#         logyPlot=[True, False],\n",
    "#         reference=[True,False]\n",
    "        );#countryStateSweep=dataTCS.index.levels[3].unique().values)"
   ]
  },
  {
   "cell_type": "code",
   "execution_count": 134,
   "metadata": {
    "scrolled": false
   },
   "outputs": [
    {
     "data": {
      "application/vnd.jupyter.widget-view+json": {
       "model_id": "f5500a8e522e42e7aba3f12de3ae915e",
       "version_major": 2,
       "version_minor": 0
      },
      "text/plain": [
       "interactive(children=(FloatSlider(value=5000.0, description='minCount', max=100000.0), Dropdown(description='m…"
      ]
     },
     "metadata": {},
     "output_type": "display_data"
    }
   ],
   "source": [
    "# states\n",
    "countryStateSweep=\"USA\"\n",
    "idx = pd.IndexSlice\n",
    "\n",
    "interact(plotter,minCount=(0,1e5),\n",
    "         minCountKpi=dataTCS.index.levels[4].unique().values,\n",
    "         #equalize=[True, False],\n",
    "         equalizeTrg=np.sort(np.unique(dataTCS.loc[idx[\"-1\",\"-1\",:,countryStateSweep,\"cases\"]].index.values))[1:],\n",
    "         equalizeCount=(0,10000),\n",
    "         plotKpi=dataTCS.index.levels[4].unique().values,\n",
    "         #logyPlot=[True, False],\n",
    "         countryStateSweep=countryStateSweep\n",
    "        );\n"
   ]
  },
  {
   "cell_type": "code",
   "execution_count": null,
   "metadata": {},
   "outputs": [],
   "source": [
    "import seaborn as sns\n",
    "# gradient across two colols, second is one color\n",
    "cm = sns.diverging_palette(150,10, n=12,l=55,center='light',as_cmap=True)\n",
    "cm = sns.light_palette('red',as_cmap=True)\n",
    "\n",
    "\n",
    "dt = datetime.datetime.today().date()-datetime.timedelta(days=1)\n",
    "dt2 = datetime.datetime.today().date()-datetime.timedelta(days=2)\n",
    "\n",
    "# dataTCS = dataTCS.astype({\"value\":\"int32\"})\n",
    "# display(dataTCS.loc[idx,\"value\"][dataTCS.loc[idx,\"date\"]==dt].to_frame().style\n",
    "#     .background_gradient(cmap=cm,subset=['value']))\n",
    "\n",
    "df = pd.DataFrame()\n",
    "idx = pd.IndexSlice[\"-1\",\"-1\",:,\"USA\",[\"cases\"]]\n",
    "df[\"cases\"] = dataTCS.loc[idx,\"value\"][dataTCS.loc[idx,\"date\"]==dt].copy()\n",
    "idx = pd.IndexSlice[\"-1\",\"-1\",:,\"USA\",:]\n",
    "#df[\"deaths\"]= dataTCS.loc[idx,\"value\"][dataTCS.loc[idx,\"date\"]==dt].values\n",
    "#df = df.reset_index().drop([\"city\",\"county\",\"country\",\"type\"],axis=1)#\n",
    "#df = df[ df[\"state\"] != \"-1\"]\n",
    "\n",
    "df = dataTCS.reset_index().copy()\n",
    "g1 = df[(df[\"type\"]==\"cases\")  & (df[\"country\"]==\"USA\") & (df[\"date\"]==dt) &  (df[\"county\"]==\"-1\") & (df[\"city\"]==\"-1\") & (df[\"state\"]!=\"-1\")].set_index([\"state\"])[\"value\"].to_frame().rename(columns={\"value\":'cases1'})\n",
    "g2 = df[(df[\"type\"]==\"deaths\") & (df[\"country\"]==\"USA\") & (df[\"date\"]==dt) &  (df[\"county\"]==\"-1\") & (df[\"city\"]==\"-1\") & (df[\"state\"]!=\"-1\")].set_index([\"state\"])[\"value\"].to_frame().rename(columns={\"value\":'deaths1'})\n",
    "g3 = df[(df[\"type\"]==\"cases\")  & (df[\"country\"]==\"USA\") & (df[\"date\"]==dt2) & (df[\"county\"]==\"-1\") & (df[\"city\"]==\"-1\") & (df[\"state\"]!=\"-1\")].set_index([\"state\"])[\"value\"].to_frame().rename(columns={\"value\":'cases2'})\n",
    "g4 = df[(df[\"type\"]==\"deaths\") & (df[\"country\"]==\"USA\") & (df[\"date\"]==dt2) & (df[\"county\"]==\"-1\") & (df[\"city\"]==\"-1\") & (df[\"state\"]!=\"-1\")].set_index([\"state\"])[\"value\"].to_frame().rename(columns={\"value\":'deaths2'})\n",
    "\n",
    "midx = pd.MultiIndex.from_tuples([\n",
    "    (dt,\"cases\"),(dt,\"deaths\"),(dt2,\"cases\"),(dt2,\"deaths\"),(\"delta\",\"cases\"),(\"delta\",\"death\"),(\"rate\",\"cases\"),(\"rate\",\"death\")\n",
    "    ])\n",
    "\n",
    "\n",
    "\n",
    "midx\n",
    "idx = pd.IndexSlice[\"-1\",\"-1\",:,\"USA\",[\"cases\"]]\n",
    "dfFinal = pd.concat([g1,g2,g3,g4], axis=1,sort=False)\n",
    "\n",
    "\n",
    "dfFinal[\"casesD\"] = dfFinal[\"cases1\"]-dfFinal[\"cases2\"]\n",
    "dfFinal[\"deathD\"] = dfFinal[\"deaths1\"]-dfFinal[\"deaths2\"] \n",
    "dfFinal = dfFinal.replace(0,-1)\n",
    "dfFinal[\"rateC\"]  = (dfFinal[\"cases1\"]-dfFinal[\"cases2\"])  /dfFinal[\"cases2\"] \n",
    "dfFinal[\"rateD\"]  = (dfFinal[\"deaths1\"]-dfFinal[\"deaths2\"])/dfFinal[\"deaths2\"] \n",
    "dfFinal.columns=midx\n",
    "display(dfFinal.sort_values(by=(\"delta\",\"cases\"),ascending=False).head(12)\n",
    "    .style\n",
    "    .background_gradient(cmap=cm, subset=['delta',\"rate\"])\n",
    "    .format({('rate',\"cases\"): \"{:.1%}\",('rate',\"death\"): \"{:.1%}\"})\n",
    "    )\n",
    "\n"
   ]
  }
 ],
 "metadata": {
  "kernelspec": {
   "display_name": "Python 3",
   "language": "python",
   "name": "python3"
  },
  "language_info": {
   "codemirror_mode": {
    "name": "ipython",
    "version": 3
   },
   "file_extension": ".py",
   "mimetype": "text/x-python",
   "name": "python",
   "nbconvert_exporter": "python",
   "pygments_lexer": "ipython3",
   "version": "3.7.1"
  }
 },
 "nbformat": 4,
 "nbformat_minor": 2
}
