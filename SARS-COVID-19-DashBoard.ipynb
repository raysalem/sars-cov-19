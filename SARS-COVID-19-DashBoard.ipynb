{
 "cells": [
  {
   "cell_type": "code",
   "execution_count": 1,
   "metadata": {},
   "outputs": [],
   "source": [
    "import datetime, urllib, re, math, json, requests,io\n",
    "from matplotlib import pyplot as plt\n",
    "import pandas as pd\n",
    "import numpy as np\n",
    "import scipy as sp\n",
    "from scipy import optimize\n",
    "from sklearn.linear_model import LinearRegression\n",
    "from IPython.display import display, HTML\n",
    "\n",
    "\n",
    "\n",
    "try:\n",
    "    from packaging import version\n",
    "except ImportError:\n",
    "    !pip install packaging\n",
    "\n",
    "if( version.parse(pd.__version__) < version.parse(\"0.23.4\")):\n",
    "    print(\"update pandas\")\n",
    "    !pip install pandas --upgrade #--ignore-installed\n",
    "    print(version.parse(pd.__version__))"
   ]
  },
  {
   "cell_type": "code",
   "execution_count": 2,
   "metadata": {},
   "outputs": [],
   "source": [
    "#** pandas\n",
    "# change max number of rows to show\n",
    "pd.set_option('display.max_rows', 300)\n",
    "\n",
    "#** plotters formats\n",
    "\n",
    "import matplotlib.ticker as mticker\n",
    "import matplotlib.dates as mdates\n",
    "from cycler import cycler\n",
    "#* dpi size\n",
    "plt.rcParams['figure.dpi'] = 200\n",
    "myFmt = mdates.DateFormatter('%m/%d')\n",
    "myLocator = mticker.MultipleLocator(7)\n",
    "\n",
    "default_cycler = (cycler(marker=['.','*','+','s','x']) *\n",
    "                  cycler(color=['b','g','k','m','y','c','r']) *\n",
    "                  cycler(linestyle=['-']))\n",
    "\n",
    "plt.rc('axes', prop_cycle=default_cycler)\n",
    "\n",
    "#** panda data frame styles\n",
    "from IPython.display import display_html\n",
    "def display_side_by_side(*args):\n",
    "    html_str=''\n",
    "    for df in args:\n",
    "        html_str+=df.to_html()\n",
    "    display_html(html_str.replace('table','table style=\"display:inline\"'),raw=True)\n"
   ]
  },
  {
   "cell_type": "code",
   "execution_count": 209,
   "metadata": {},
   "outputs": [],
   "source": [
    "df = pd.read_csv(\"https://coronadatascraper.com/timeseries-tidy.csv\")\n",
    "df.fillna(\"NA\",inplace=True);\n",
    "dataTCS =df.set_index([\"city\",\"county\",\"state\",\"country\",\"type\"])\n",
    "dataTCS[\"date\"] = [datetime.datetime.strptime(ts,\"%Y-%m-%d\").date() for ts in dataTCS[\"date\"]]\n"
   ]
  },
  {
   "cell_type": "code",
   "execution_count": 237,
   "metadata": {},
   "outputs": [
    {
     "data": {
      "application/vnd.jupyter.widget-view+json": {
       "model_id": "3ed0abdb5f754e54a3522ea1996864af",
       "version_major": 2,
       "version_minor": 0
      },
      "text/plain": [
       "interactive(children=(FloatSlider(value=5.0, description='a', max=10.0, step=0.5), FloatSlider(value=7.0, desc…"
      ]
     },
     "metadata": {},
     "output_type": "display_data"
    },
    {
     "data": {
      "text/plain": [
       "<function __main__.foo(a, b)>"
      ]
     },
     "execution_count": 237,
     "metadata": {},
     "output_type": "execute_result"
    }
   ],
   "source": [
    "from IPython.html.widgets import *\n",
    "\n",
    "def foo(a,b): return a+b\n",
    "\n",
    "interact(foo,a=(0,10,.5),b=(0,15,.5))"
   ]
  },
  {
   "cell_type": "code",
   "execution_count": null,
   "metadata": {
    "scrolled": false
   },
   "outputs": [
    {
     "name": "stderr",
     "output_type": "stream",
     "text": [
      "C:\\ProgramData\\Anaconda3\\lib\\site-packages\\ipykernel_launcher.py:16: PerformanceWarning: indexing past lexsort depth may impact performance.\n",
      "  app.launch_new_instance()\n",
      "C:\\ProgramData\\Anaconda3\\lib\\site-packages\\ipykernel_launcher.py:24: PerformanceWarning: indexing past lexsort depth may impact performance.\n"
     ]
    },
    {
     "name": "stdout",
     "output_type": "stream",
     "text": [
      "2020-03-17\n",
      "CHN --> -43\n",
      "DEU --> 11\n",
      "ESP --> 0\n",
      "FRA --> 3\n",
      "GBR --> 7\n",
      "IRN --> -5\n",
      "ITA --> -8\n",
      "NLD --> 9\n",
      "USA --> 6\n"
     ]
    }
   ],
   "source": [
    "minCount     = 500\n",
    "minCountKpi  = \"deaths\" # 'active', 'cases', 'deaths', 'growthFactor', 'recovered', 'tested'\n",
    "equalize     = True\n",
    "equalizeTrg  = \"USA\"\n",
    "equalizeCount= 400\n",
    "\n",
    "plotKpi      = \"deaths\"\n",
    "logyPlot     = True\n",
    "\n",
    "idx = pd.IndexSlice\n",
    "\n",
    "\n",
    "fig,ax = plt.subplots(1,1)\n",
    "\n",
    "if(equalize):\n",
    "    g = dataTCS.loc[idx[\"NA\",\"NA\",\"NA\",equalizeTrg,minCountKpi]]\n",
    "    gdts = g[g[\"value\"]>100][\"date\"].values[0]\n",
    "\n",
    "    print(gdts)\n",
    "\n",
    "# temp commented out    \n",
    "for ctr in dataTCS.index.levels[3]:\n",
    "\n",
    "    if dataTCS.loc[idx[\"NA\",\"NA\",\"NA\",ctr,minCountKpi]].value[-1]< minCount: continue\n",
    "#     \n",
    "    g = dataTCS.loc[idx[\"NA\",\"NA\",\"NA\",ctr,plotKpi],[\"date\",\"value\"]]\n",
    "    dts = g[g[\"value\"]>equalizeCount][\"date\"].values[0]\n",
    "    print(\"%s --> %d\" %(ctr,(dts-gdts).days))\n",
    "    data= g[g[\"date\"]>=dts]\n",
    "    ts = [(gdts + datetime.timedelta(i)) for i in range(0,sp.size(data[\"value\"]))] \n",
    "    ax.plot_date(ts,data[\"value\"].values,label=ctr)    \n",
    "ax.xaxis.set_major_locator(myLocator)\n",
    "ax.grid()\n",
    "ax.xaxis.set_major_formatter(myFmt)\n",
    "ax.legend()\n",
    "ax.set_title(\"new cases vs time\");\n",
    "#print(dataTCS.loc[idx[\"NA\",\"NA\",\"NA\",ctr,plotKpi],\"value\"].values)\n",
    "\n",
    "if(logyPlot) : plt.yscale('log')"
   ]
  },
  {
   "cell_type": "code",
   "execution_count": null,
   "metadata": {},
   "outputs": [],
   "source": []
  }
 ],
 "metadata": {
  "kernelspec": {
   "display_name": "Python 3",
   "language": "python",
   "name": "python3"
  },
  "language_info": {
   "codemirror_mode": {
    "name": "ipython",
    "version": 3
   },
   "file_extension": ".py",
   "mimetype": "text/x-python",
   "name": "python",
   "nbconvert_exporter": "python",
   "pygments_lexer": "ipython3",
   "version": "3.7.1"
  }
 },
 "nbformat": 4,
 "nbformat_minor": 2
}
