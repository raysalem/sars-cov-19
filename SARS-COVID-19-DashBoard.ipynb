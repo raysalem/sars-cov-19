{
 "cells": [
  {
   "cell_type": "code",
   "execution_count": 6,
   "metadata": {},
   "outputs": [
    {
     "name": "stdout",
     "output_type": "stream",
     "text": [
      "The autoreload extension is already loaded. To reload it, use:\n",
      "  %reload_ext autoreload\n"
     ]
    }
   ],
   "source": [
    "%load_ext autoreload\n",
    "%autoreload 2\n",
    "import datetime, urllib, re, math, json, requests,io\n",
    "from matplotlib import pyplot as plt\n",
    "import pandas as pd\n",
    "import numpy as np\n",
    "import scipy as sp\n",
    "from scipy import optimize\n",
    "import scipy.signal\n",
    "from sklearn.linear_model import LinearRegression\n",
    "from IPython.display import display, HTML\n",
    "from ipywidgets import *\n",
    "\n",
    "\n",
    "try:\n",
    "    from packaging import version\n",
    "except ImportError:\n",
    "    !pip install packaging\n",
    "\n",
    "if( version.parse(pd.__version__) < version.parse(\"0.23.4\")):\n",
    "    print(\"update pandas\")\n",
    "    !pip install pandas --upgrade #--ignore-installed\n",
    "    print(version.parse(pd.__version__))\n",
    "    \n",
    "import compute    "
   ]
  },
  {
   "cell_type": "code",
   "execution_count": 7,
   "metadata": {},
   "outputs": [
    {
     "name": "stderr",
     "output_type": "stream",
     "text": [
      "C:\\ProgramData\\Anaconda3\\lib\\site-packages\\IPython\\core\\interactiveshell.py:3020: DtypeWarning: Columns (0,1,2) have mixed types. Specify dtype option on import or set low_memory=False.\n",
      "  interactivity=interactivity, compiler=compiler, result=result)\n"
     ]
    }
   ],
   "source": [
    "#get the data\n",
    "df = pd.read_csv(\"https://coronadatascraper.com/timeseries-tidy.csv\")\n",
    "df.fillna(\"-1\",inplace=True);\n",
    "dataTCS =df.set_index([\"city\",\"county\",\"state\",\"country\",\"type\"])\n",
    "dataTCS[\"date\"] = [datetime.datetime.strptime(ts,\"%Y-%m-%d\").date() for ts in dataTCS[\"date\"]]\n"
   ]
  },
  {
   "cell_type": "code",
   "execution_count": 8,
   "metadata": {},
   "outputs": [],
   "source": [
    "#set compute dataframe\n",
    "compute.dataTCS = dataTCS"
   ]
  },
  {
   "cell_type": "code",
   "execution_count": 9,
   "metadata": {
    "scrolled": false
   },
   "outputs": [
    {
     "data": {
      "application/vnd.jupyter.widget-view+json": {
       "model_id": "6225ee23f475479bb7d3c5a300aaf1f2",
       "version_major": 2,
       "version_minor": 0
      },
      "text/plain": [
       "interactive(children=(FloatSlider(value=5000.0, description='minCount', max=1000000.0, step=10000.0), Dropdown…"
      ]
     },
     "metadata": {},
     "output_type": "display_data"
    }
   ],
   "source": [
    "from ipywidgets import *\n",
    "\n",
    "\n",
    "interact(compute.plotter,minCount=(0,1e6,1e4),\n",
    "         minCountKpi=dataTCS.index.levels[4].unique().values,\n",
    "#         equalize=[True, False],\n",
    "         equalizeTrg=dataTCS.index.levels[3].unique().values,\n",
    "         equalizeCount=(0,10000),\n",
    "         plotKpi=dataTCS.index.levels[4].unique().values\n",
    "#         logyPlot=[True, False],        \n",
    "#         reference=[True,False]\n",
    "         ,xlim=(-1,60)\n",
    "         ,ylim=(-1,1e6)\n",
    "        );#countryStateSweep=dataTCS.index.levels[3].unique().values)"
   ]
  },
  {
   "cell_type": "code",
   "execution_count": 10,
   "metadata": {
    "scrolled": false
   },
   "outputs": [
    {
     "data": {
      "application/vnd.jupyter.widget-view+json": {
       "model_id": "4cf7d32fe18a4e4a96467a714b15c71f",
       "version_major": 2,
       "version_minor": 0
      },
      "text/plain": [
       "interactive(children=(FloatSlider(value=5000.0, description='minCount', max=100000.0), Dropdown(description='m…"
      ]
     },
     "metadata": {},
     "output_type": "display_data"
    }
   ],
   "source": [
    "# states\n",
    "countryStateSweep=\"USA\"\n",
    "idx = pd.IndexSlice\n",
    "\n",
    "interact(compute.plotter,minCount=(0,1e5),\n",
    "         minCountKpi=dataTCS.index.levels[4].unique().values,\n",
    "         #equalize=[True, False],\n",
    "         equalizeTrg=np.sort(np.unique(dataTCS.loc[idx[\"-1\",\"-1\",:,countryStateSweep,\"cases\"]].index.values))[1:],\n",
    "         equalizeCount=(0,10000),\n",
    "         plotKpi=dataTCS.index.levels[4].unique().values,\n",
    "         #logyPlot=[True, False],\n",
    "         countryStateSweep=countryStateSweep\n",
    "        );\n"
   ]
  },
  {
   "cell_type": "code",
   "execution_count": 11,
   "metadata": {},
   "outputs": [
    {
     "name": "stderr",
     "output_type": "stream",
     "text": [
      "C:\\ProgramData\\Anaconda3\\lib\\site-packages\\matplotlib\\colors.py:512: RuntimeWarning: invalid value encountered in less\n",
      "  xa[xa < 0] = -1\n"
     ]
    },
    {
     "data": {
      "text/html": [
       "<style  type=\"text/css\" >\n",
       "    #T_e20638b8_7520_11ea_b542_70188bb67dc6row0_col4 {\n",
       "            background-color:  #ff0000;\n",
       "        }    #T_e20638b8_7520_11ea_b542_70188bb67dc6row0_col5 {\n",
       "            background-color:  #ffe5e5;\n",
       "        }    #T_e20638b8_7520_11ea_b542_70188bb67dc6row0_col6 {\n",
       "            background-color:  #ffe5e5;\n",
       "        }    #T_e20638b8_7520_11ea_b542_70188bb67dc6row0_col7 {\n",
       "            background-color:  #ffe5e5;\n",
       "        }    #T_e20638b8_7520_11ea_b542_70188bb67dc6row1_col4 {\n",
       "            background-color:  #ffa4a4;\n",
       "        }    #T_e20638b8_7520_11ea_b542_70188bb67dc6row1_col5 {\n",
       "            background-color:  #ff0000;\n",
       "        }    #T_e20638b8_7520_11ea_b542_70188bb67dc6row1_col6 {\n",
       "            background-color:  #ff9393;\n",
       "        }    #T_e20638b8_7520_11ea_b542_70188bb67dc6row1_col7 {\n",
       "            background-color:  #ffa6a6;\n",
       "        }    #T_e20638b8_7520_11ea_b542_70188bb67dc6row2_col4 {\n",
       "            background-color:  #ffc3c3;\n",
       "        }    #T_e20638b8_7520_11ea_b542_70188bb67dc6row2_col5 {\n",
       "            background-color:  #ff1b1b;\n",
       "        }    #T_e20638b8_7520_11ea_b542_70188bb67dc6row2_col6 {\n",
       "            background-color:  #ff6464;\n",
       "        }    #T_e20638b8_7520_11ea_b542_70188bb67dc6row2_col7 {\n",
       "            background-color:  #ffafaf;\n",
       "        }    #T_e20638b8_7520_11ea_b542_70188bb67dc6row3_col4 {\n",
       "            background-color:  #ffc8c8;\n",
       "        }    #T_e20638b8_7520_11ea_b542_70188bb67dc6row3_col5 {\n",
       "            background-color:  #ff9a9a;\n",
       "        }    #T_e20638b8_7520_11ea_b542_70188bb67dc6row3_col6 {\n",
       "            background-color:  #ff8989;\n",
       "        }    #T_e20638b8_7520_11ea_b542_70188bb67dc6row3_col7 {\n",
       "            background-color:  #ffd1d1;\n",
       "        }    #T_e20638b8_7520_11ea_b542_70188bb67dc6row4_col4 {\n",
       "            background-color:  #ffd4d4;\n",
       "        }    #T_e20638b8_7520_11ea_b542_70188bb67dc6row4_col5 {\n",
       "            background-color:  #ffa0a0;\n",
       "        }    #T_e20638b8_7520_11ea_b542_70188bb67dc6row4_col6 {\n",
       "            background-color:  #ff6363;\n",
       "        }    #T_e20638b8_7520_11ea_b542_70188bb67dc6row4_col7 {\n",
       "            background-color:  #ffe5e5;\n",
       "        }    #T_e20638b8_7520_11ea_b542_70188bb67dc6row5_col4 {\n",
       "            background-color:  #ffd6d6;\n",
       "        }    #T_e20638b8_7520_11ea_b542_70188bb67dc6row5_col5 {\n",
       "            background-color:  #ffe5e5;\n",
       "        }    #T_e20638b8_7520_11ea_b542_70188bb67dc6row5_col6 {\n",
       "            background-color:  #ffa1a1;\n",
       "        }    #T_e20638b8_7520_11ea_b542_70188bb67dc6row5_col7 {\n",
       "            background-color:  #ffe5e5;\n",
       "        }    #T_e20638b8_7520_11ea_b542_70188bb67dc6row6_col4 {\n",
       "            background-color:  #ffdbdb;\n",
       "        }    #T_e20638b8_7520_11ea_b542_70188bb67dc6row6_col5 {\n",
       "            background-color:  #ff8888;\n",
       "        }    #T_e20638b8_7520_11ea_b542_70188bb67dc6row6_col6 {\n",
       "            background-color:  #ffa6a6;\n",
       "        }    #T_e20638b8_7520_11ea_b542_70188bb67dc6row6_col7 {\n",
       "            background-color:  #ff8383;\n",
       "        }    #T_e20638b8_7520_11ea_b542_70188bb67dc6row7_col4 {\n",
       "            background-color:  #ffdcdc;\n",
       "        }    #T_e20638b8_7520_11ea_b542_70188bb67dc6row7_col5 {\n",
       "            background-color:  #ffe5e5;\n",
       "        }    #T_e20638b8_7520_11ea_b542_70188bb67dc6row7_col6 {\n",
       "            background-color:  #ff8282;\n",
       "        }    #T_e20638b8_7520_11ea_b542_70188bb67dc6row7_col7 {\n",
       "            background-color:  #ffdbdb;\n",
       "        }    #T_e20638b8_7520_11ea_b542_70188bb67dc6row8_col4 {\n",
       "            background-color:  #ffe0e0;\n",
       "        }    #T_e20638b8_7520_11ea_b542_70188bb67dc6row8_col5 {\n",
       "            background-color:  #ffe3e3;\n",
       "        }    #T_e20638b8_7520_11ea_b542_70188bb67dc6row8_col6 {\n",
       "            background-color:  #ffd3d3;\n",
       "        }    #T_e20638b8_7520_11ea_b542_70188bb67dc6row8_col7 {\n",
       "            background-color:  #ffe5e5;\n",
       "        }    #T_e20638b8_7520_11ea_b542_70188bb67dc6row9_col4 {\n",
       "            background-color:  #ffe0e0;\n",
       "        }    #T_e20638b8_7520_11ea_b542_70188bb67dc6row9_col5 {\n",
       "            background-color:  #ff9797;\n",
       "        }    #T_e20638b8_7520_11ea_b542_70188bb67dc6row9_col6 {\n",
       "            background-color:  #ff0000;\n",
       "        }    #T_e20638b8_7520_11ea_b542_70188bb67dc6row9_col7 {\n",
       "            background-color:  #ff0000;\n",
       "        }    #T_e20638b8_7520_11ea_b542_70188bb67dc6row10_col4 {\n",
       "            background-color:  #ffe3e3;\n",
       "        }    #T_e20638b8_7520_11ea_b542_70188bb67dc6row10_col5 {\n",
       "            background-color:  #ffd3d3;\n",
       "        }    #T_e20638b8_7520_11ea_b542_70188bb67dc6row10_col6 {\n",
       "            background-color:  #ff6767;\n",
       "        }    #T_e20638b8_7520_11ea_b542_70188bb67dc6row10_col7 {\n",
       "            background-color:  #ff8787;\n",
       "        }    #T_e20638b8_7520_11ea_b542_70188bb67dc6row11_col4 {\n",
       "            background-color:  #ffe5e5;\n",
       "        }    #T_e20638b8_7520_11ea_b542_70188bb67dc6row11_col5 {\n",
       "            background-color:  #ffb0b0;\n",
       "        }    #T_e20638b8_7520_11ea_b542_70188bb67dc6row11_col6 {\n",
       "            background-color:  #ffb1b1;\n",
       "        }    #T_e20638b8_7520_11ea_b542_70188bb67dc6row11_col7 {\n",
       "            background-color:  #ffc6c6;\n",
       "        }</style>  \n",
       "<table id=\"T_e20638b8_7520_11ea_b542_70188bb67dc6\" > \n",
       "<thead>    <tr> \n",
       "        <th class=\"blank level0\" ></th> \n",
       "        <th class=\"col_heading level0 col0\" colspan=2>2020-04-01</th> \n",
       "        <th class=\"col_heading level0 col2\" colspan=2>2020-03-31</th> \n",
       "        <th class=\"col_heading level0 col4\" colspan=2>delta</th> \n",
       "        <th class=\"col_heading level0 col6\" colspan=2>rate</th> \n",
       "    </tr>    <tr> \n",
       "        <th class=\"blank level1\" ></th> \n",
       "        <th class=\"col_heading level1 col0\" >cases</th> \n",
       "        <th class=\"col_heading level1 col1\" >deaths</th> \n",
       "        <th class=\"col_heading level1 col2\" >cases</th> \n",
       "        <th class=\"col_heading level1 col3\" >deaths</th> \n",
       "        <th class=\"col_heading level1 col4\" >cases</th> \n",
       "        <th class=\"col_heading level1 col5\" >death</th> \n",
       "        <th class=\"col_heading level1 col6\" >cases</th> \n",
       "        <th class=\"col_heading level1 col7\" >death</th> \n",
       "    </tr></thead> \n",
       "<tbody>    <tr> \n",
       "        <th id=\"T_e20638b8_7520_11ea_b542_70188bb67dc6level0_row0\" class=\"row_heading level0 row0\" >NY</th> \n",
       "        <td id=\"T_e20638b8_7520_11ea_b542_70188bb67dc6row0_col0\" class=\"data row0 col0\" >83712</td> \n",
       "        <td id=\"T_e20638b8_7520_11ea_b542_70188bb67dc6row0_col1\" class=\"data row0 col1\" >nan</td> \n",
       "        <td id=\"T_e20638b8_7520_11ea_b542_70188bb67dc6row0_col2\" class=\"data row0 col2\" >75795</td> \n",
       "        <td id=\"T_e20638b8_7520_11ea_b542_70188bb67dc6row0_col3\" class=\"data row0 col3\" >nan</td> \n",
       "        <td id=\"T_e20638b8_7520_11ea_b542_70188bb67dc6row0_col4\" class=\"data row0 col4\" >7917</td> \n",
       "        <td id=\"T_e20638b8_7520_11ea_b542_70188bb67dc6row0_col5\" class=\"data row0 col5\" >nan</td> \n",
       "        <td id=\"T_e20638b8_7520_11ea_b542_70188bb67dc6row0_col6\" class=\"data row0 col6\" >10.4%</td> \n",
       "        <td id=\"T_e20638b8_7520_11ea_b542_70188bb67dc6row0_col7\" class=\"data row0 col7\" >nan%</td> \n",
       "    </tr>    <tr> \n",
       "        <th id=\"T_e20638b8_7520_11ea_b542_70188bb67dc6level0_row1\" class=\"row_heading level0 row1\" >NJ</th> \n",
       "        <td id=\"T_e20638b8_7520_11ea_b542_70188bb67dc6row1_col0\" class=\"data row1 col0\" >17743</td> \n",
       "        <td id=\"T_e20638b8_7520_11ea_b542_70188bb67dc6row1_col1\" class=\"data row1 col1\" >355</td> \n",
       "        <td id=\"T_e20638b8_7520_11ea_b542_70188bb67dc6row1_col2\" class=\"data row1 col2\" >15010</td> \n",
       "        <td id=\"T_e20638b8_7520_11ea_b542_70188bb67dc6row1_col3\" class=\"data row1 col3\" >268</td> \n",
       "        <td id=\"T_e20638b8_7520_11ea_b542_70188bb67dc6row1_col4\" class=\"data row1 col4\" >2733</td> \n",
       "        <td id=\"T_e20638b8_7520_11ea_b542_70188bb67dc6row1_col5\" class=\"data row1 col5\" >87</td> \n",
       "        <td id=\"T_e20638b8_7520_11ea_b542_70188bb67dc6row1_col6\" class=\"data row1 col6\" >18.2%</td> \n",
       "        <td id=\"T_e20638b8_7520_11ea_b542_70188bb67dc6row1_col7\" class=\"data row1 col7\" >32.5%</td> \n",
       "    </tr>    <tr> \n",
       "        <th id=\"T_e20638b8_7520_11ea_b542_70188bb67dc6level0_row2\" class=\"row_heading level0 row2\" >MI</th> \n",
       "        <td id=\"T_e20638b8_7520_11ea_b542_70188bb67dc6row2_col0\" class=\"data row2 col0\" >9334</td> \n",
       "        <td id=\"T_e20638b8_7520_11ea_b542_70188bb67dc6row2_col1\" class=\"data row2 col1\" >337</td> \n",
       "        <td id=\"T_e20638b8_7520_11ea_b542_70188bb67dc6row2_col2\" class=\"data row2 col2\" >7615</td> \n",
       "        <td id=\"T_e20638b8_7520_11ea_b542_70188bb67dc6row2_col3\" class=\"data row2 col3\" >259</td> \n",
       "        <td id=\"T_e20638b8_7520_11ea_b542_70188bb67dc6row2_col4\" class=\"data row2 col4\" >1719</td> \n",
       "        <td id=\"T_e20638b8_7520_11ea_b542_70188bb67dc6row2_col5\" class=\"data row2 col5\" >78</td> \n",
       "        <td id=\"T_e20638b8_7520_11ea_b542_70188bb67dc6row2_col6\" class=\"data row2 col6\" >22.6%</td> \n",
       "        <td id=\"T_e20638b8_7520_11ea_b542_70188bb67dc6row2_col7\" class=\"data row2 col7\" >30.1%</td> \n",
       "    </tr>    <tr> \n",
       "        <th id=\"T_e20638b8_7520_11ea_b542_70188bb67dc6level0_row3\" class=\"row_heading level0 row3\" >CA</th> \n",
       "        <td id=\"T_e20638b8_7520_11ea_b542_70188bb67dc6row3_col0\" class=\"data row3 col0\" >9917</td> \n",
       "        <td id=\"T_e20638b8_7520_11ea_b542_70188bb67dc6row3_col1\" class=\"data row3 col1\" >214</td> \n",
       "        <td id=\"T_e20638b8_7520_11ea_b542_70188bb67dc6row3_col2\" class=\"data row3 col2\" >8325</td> \n",
       "        <td id=\"T_e20638b8_7520_11ea_b542_70188bb67dc6row3_col3\" class=\"data row3 col3\" >178</td> \n",
       "        <td id=\"T_e20638b8_7520_11ea_b542_70188bb67dc6row3_col4\" class=\"data row3 col4\" >1592</td> \n",
       "        <td id=\"T_e20638b8_7520_11ea_b542_70188bb67dc6row3_col5\" class=\"data row3 col5\" >36</td> \n",
       "        <td id=\"T_e20638b8_7520_11ea_b542_70188bb67dc6row3_col6\" class=\"data row3 col6\" >19.1%</td> \n",
       "        <td id=\"T_e20638b8_7520_11ea_b542_70188bb67dc6row3_col7\" class=\"data row3 col7\" >20.2%</td> \n",
       "    </tr>    <tr> \n",
       "        <th id=\"T_e20638b8_7520_11ea_b542_70188bb67dc6level0_row4\" class=\"row_heading level0 row4\" >LA</th> \n",
       "        <td id=\"T_e20638b8_7520_11ea_b542_70188bb67dc6row4_col0\" class=\"data row4 col0\" >6424</td> \n",
       "        <td id=\"T_e20638b8_7520_11ea_b542_70188bb67dc6row4_col1\" class=\"data row4 col1\" >273</td> \n",
       "        <td id=\"T_e20638b8_7520_11ea_b542_70188bb67dc6row4_col2\" class=\"data row4 col2\" >5237</td> \n",
       "        <td id=\"T_e20638b8_7520_11ea_b542_70188bb67dc6row4_col3\" class=\"data row4 col3\" >239</td> \n",
       "        <td id=\"T_e20638b8_7520_11ea_b542_70188bb67dc6row4_col4\" class=\"data row4 col4\" >1187</td> \n",
       "        <td id=\"T_e20638b8_7520_11ea_b542_70188bb67dc6row4_col5\" class=\"data row4 col5\" >34</td> \n",
       "        <td id=\"T_e20638b8_7520_11ea_b542_70188bb67dc6row4_col6\" class=\"data row4 col6\" >22.7%</td> \n",
       "        <td id=\"T_e20638b8_7520_11ea_b542_70188bb67dc6row4_col7\" class=\"data row4 col7\" >14.2%</td> \n",
       "    </tr>    <tr> \n",
       "        <th id=\"T_e20638b8_7520_11ea_b542_70188bb67dc6level0_row5\" class=\"row_heading level0 row5\" >MA</th> \n",
       "        <td id=\"T_e20638b8_7520_11ea_b542_70188bb67dc6row5_col0\" class=\"data row5 col0\" >7738</td> \n",
       "        <td id=\"T_e20638b8_7520_11ea_b542_70188bb67dc6row5_col1\" class=\"data row5 col1\" >nan</td> \n",
       "        <td id=\"T_e20638b8_7520_11ea_b542_70188bb67dc6row5_col2\" class=\"data row5 col2\" >6620</td> \n",
       "        <td id=\"T_e20638b8_7520_11ea_b542_70188bb67dc6row5_col3\" class=\"data row5 col3\" >nan</td> \n",
       "        <td id=\"T_e20638b8_7520_11ea_b542_70188bb67dc6row5_col4\" class=\"data row5 col4\" >1118</td> \n",
       "        <td id=\"T_e20638b8_7520_11ea_b542_70188bb67dc6row5_col5\" class=\"data row5 col5\" >nan</td> \n",
       "        <td id=\"T_e20638b8_7520_11ea_b542_70188bb67dc6row5_col6\" class=\"data row5 col6\" >16.9%</td> \n",
       "        <td id=\"T_e20638b8_7520_11ea_b542_70188bb67dc6row5_col7\" class=\"data row5 col7\" >nan%</td> \n",
       "    </tr>    <tr> \n",
       "        <th id=\"T_e20638b8_7520_11ea_b542_70188bb67dc6level0_row6\" class=\"row_heading level0 row6\" >IL</th> \n",
       "        <td id=\"T_e20638b8_7520_11ea_b542_70188bb67dc6row6_col0\" class=\"data row6 col0\" >6955</td> \n",
       "        <td id=\"T_e20638b8_7520_11ea_b542_70188bb67dc6row6_col1\" class=\"data row6 col1\" >141</td> \n",
       "        <td id=\"T_e20638b8_7520_11ea_b542_70188bb67dc6row6_col2\" class=\"data row6 col2\" >5977</td> \n",
       "        <td id=\"T_e20638b8_7520_11ea_b542_70188bb67dc6row6_col3\" class=\"data row6 col3\" >99</td> \n",
       "        <td id=\"T_e20638b8_7520_11ea_b542_70188bb67dc6row6_col4\" class=\"data row6 col4\" >978</td> \n",
       "        <td id=\"T_e20638b8_7520_11ea_b542_70188bb67dc6row6_col5\" class=\"data row6 col5\" >42</td> \n",
       "        <td id=\"T_e20638b8_7520_11ea_b542_70188bb67dc6row6_col6\" class=\"data row6 col6\" >16.4%</td> \n",
       "        <td id=\"T_e20638b8_7520_11ea_b542_70188bb67dc6row6_col7\" class=\"data row6 col7\" >42.4%</td> \n",
       "    </tr>    <tr> \n",
       "        <th id=\"T_e20638b8_7520_11ea_b542_70188bb67dc6level0_row7\" class=\"row_heading level0 row7\" >PA</th> \n",
       "        <td id=\"T_e20638b8_7520_11ea_b542_70188bb67dc6row7_col0\" class=\"data row7 col0\" >5805</td> \n",
       "        <td id=\"T_e20638b8_7520_11ea_b542_70188bb67dc6row7_col1\" class=\"data row7 col1\" >74</td> \n",
       "        <td id=\"T_e20638b8_7520_11ea_b542_70188bb67dc6row7_col2\" class=\"data row7 col2\" >4843</td> \n",
       "        <td id=\"T_e20638b8_7520_11ea_b542_70188bb67dc6row7_col3\" class=\"data row7 col3\" >63</td> \n",
       "        <td id=\"T_e20638b8_7520_11ea_b542_70188bb67dc6row7_col4\" class=\"data row7 col4\" >962</td> \n",
       "        <td id=\"T_e20638b8_7520_11ea_b542_70188bb67dc6row7_col5\" class=\"data row7 col5\" >11</td> \n",
       "        <td id=\"T_e20638b8_7520_11ea_b542_70188bb67dc6row7_col6\" class=\"data row7 col6\" >19.9%</td> \n",
       "        <td id=\"T_e20638b8_7520_11ea_b542_70188bb67dc6row7_col7\" class=\"data row7 col7\" >17.5%</td> \n",
       "    </tr>    <tr> \n",
       "        <th id=\"T_e20638b8_7520_11ea_b542_70188bb67dc6level0_row8\" class=\"row_heading level0 row8\" >FL</th> \n",
       "        <td id=\"T_e20638b8_7520_11ea_b542_70188bb67dc6row8_col0\" class=\"data row8 col0\" >7559</td> \n",
       "        <td id=\"T_e20638b8_7520_11ea_b542_70188bb67dc6row8_col1\" class=\"data row8 col1\" >97</td> \n",
       "        <td id=\"T_e20638b8_7520_11ea_b542_70188bb67dc6row8_col2\" class=\"data row8 col2\" >6741</td> \n",
       "        <td id=\"T_e20638b8_7520_11ea_b542_70188bb67dc6row8_col3\" class=\"data row8 col3\" >85</td> \n",
       "        <td id=\"T_e20638b8_7520_11ea_b542_70188bb67dc6row8_col4\" class=\"data row8 col4\" >818</td> \n",
       "        <td id=\"T_e20638b8_7520_11ea_b542_70188bb67dc6row8_col5\" class=\"data row8 col5\" >12</td> \n",
       "        <td id=\"T_e20638b8_7520_11ea_b542_70188bb67dc6row8_col6\" class=\"data row8 col6\" >12.1%</td> \n",
       "        <td id=\"T_e20638b8_7520_11ea_b542_70188bb67dc6row8_col7\" class=\"data row8 col7\" >14.1%</td> \n",
       "    </tr>    <tr> \n",
       "        <th id=\"T_e20638b8_7520_11ea_b542_70188bb67dc6level0_row9\" class=\"row_heading level0 row9\" >CT</th> \n",
       "        <td id=\"T_e20638b8_7520_11ea_b542_70188bb67dc6row9_col0\" class=\"data row9 col0\" >3372</td> \n",
       "        <td id=\"T_e20638b8_7520_11ea_b542_70188bb67dc6row9_col1\" class=\"data row9 col1\" >83</td> \n",
       "        <td id=\"T_e20638b8_7520_11ea_b542_70188bb67dc6row9_col2\" class=\"data row9 col2\" >2555</td> \n",
       "        <td id=\"T_e20638b8_7520_11ea_b542_70188bb67dc6row9_col3\" class=\"data row9 col3\" >46</td> \n",
       "        <td id=\"T_e20638b8_7520_11ea_b542_70188bb67dc6row9_col4\" class=\"data row9 col4\" >817</td> \n",
       "        <td id=\"T_e20638b8_7520_11ea_b542_70188bb67dc6row9_col5\" class=\"data row9 col5\" >37</td> \n",
       "        <td id=\"T_e20638b8_7520_11ea_b542_70188bb67dc6row9_col6\" class=\"data row9 col6\" >32.0%</td> \n",
       "        <td id=\"T_e20638b8_7520_11ea_b542_70188bb67dc6row9_col7\" class=\"data row9 col7\" >80.4%</td> \n",
       "    </tr>    <tr> \n",
       "        <th id=\"T_e20638b8_7520_11ea_b542_70188bb67dc6level0_row10\" class=\"row_heading level0 row10\" >TX</th> \n",
       "        <td id=\"T_e20638b8_7520_11ea_b542_70188bb67dc6row10_col0\" class=\"data row10 col0\" >3997</td> \n",
       "        <td id=\"T_e20638b8_7520_11ea_b542_70188bb67dc6row10_col1\" class=\"data row10 col1\" >58</td> \n",
       "        <td id=\"T_e20638b8_7520_11ea_b542_70188bb67dc6row10_col2\" class=\"data row10 col2\" >3266</td> \n",
       "        <td id=\"T_e20638b8_7520_11ea_b542_70188bb67dc6row10_col3\" class=\"data row10 col3\" >41</td> \n",
       "        <td id=\"T_e20638b8_7520_11ea_b542_70188bb67dc6row10_col4\" class=\"data row10 col4\" >731</td> \n",
       "        <td id=\"T_e20638b8_7520_11ea_b542_70188bb67dc6row10_col5\" class=\"data row10 col5\" >17</td> \n",
       "        <td id=\"T_e20638b8_7520_11ea_b542_70188bb67dc6row10_col6\" class=\"data row10 col6\" >22.4%</td> \n",
       "        <td id=\"T_e20638b8_7520_11ea_b542_70188bb67dc6row10_col7\" class=\"data row10 col7\" >41.5%</td> \n",
       "    </tr>    <tr> \n",
       "        <th id=\"T_e20638b8_7520_11ea_b542_70188bb67dc6level0_row11\" class=\"row_heading level0 row11\" >GA</th> \n",
       "        <td id=\"T_e20638b8_7520_11ea_b542_70188bb67dc6row11_col0\" class=\"data row11 col0\" >4748</td> \n",
       "        <td id=\"T_e20638b8_7520_11ea_b542_70188bb67dc6row11_col1\" class=\"data row11 col1\" >154</td> \n",
       "        <td id=\"T_e20638b8_7520_11ea_b542_70188bb67dc6row11_col2\" class=\"data row11 col2\" >4117</td> \n",
       "        <td id=\"T_e20638b8_7520_11ea_b542_70188bb67dc6row11_col3\" class=\"data row11 col3\" >125</td> \n",
       "        <td id=\"T_e20638b8_7520_11ea_b542_70188bb67dc6row11_col4\" class=\"data row11 col4\" >631</td> \n",
       "        <td id=\"T_e20638b8_7520_11ea_b542_70188bb67dc6row11_col5\" class=\"data row11 col5\" >29</td> \n",
       "        <td id=\"T_e20638b8_7520_11ea_b542_70188bb67dc6row11_col6\" class=\"data row11 col6\" >15.3%</td> \n",
       "        <td id=\"T_e20638b8_7520_11ea_b542_70188bb67dc6row11_col7\" class=\"data row11 col7\" >23.2%</td> \n",
       "    </tr></tbody> \n",
       "</table> "
      ],
      "text/plain": [
       "<pandas.io.formats.style.Styler at 0xb7397b8>"
      ]
     },
     "metadata": {},
     "output_type": "display_data"
    }
   ],
   "source": [
    "compute.table_gen(dataTCS)\n",
    "\n"
   ]
  },
  {
   "cell_type": "code",
   "execution_count": 28,
   "metadata": {
    "scrolled": false
   },
   "outputs": [
    {
     "name": "stdout",
     "output_type": "stream",
     "text": [
      "['-1' 'AK' 'AL' 'AR' 'AS' 'AZ' 'CA' 'CO' 'CT' 'DC' 'DE' 'FL' 'GA' 'GU'\n",
      " 'HI' 'IA' 'ID' 'IL' 'IN' 'KS' 'KY' 'LA' 'MA' 'MD' 'ME' 'MI' 'MN' 'MO'\n",
      " 'MP' 'MS' 'MT' 'NC' 'ND' 'NE' 'NH' 'NJ' 'NM' 'NV' 'NY' 'OH' 'OK' 'OR'\n",
      " 'PA' 'PR' 'RI' 'SC' 'SD' 'TN' 'TX' 'UT' 'VA' 'VI' 'VT' 'WA' 'WI' 'WV'\n",
      " 'WY']\n"
     ]
    },
    {
     "data": {
      "application/vnd.jupyter.widget-view+json": {
       "model_id": "58f889db58c5457385e9463a28953452",
       "version_major": 2,
       "version_minor": 0
      },
      "text/plain": [
       "Dropdown(description='Country:', index=180, options=('AFG', 'AGO', 'ALB', 'AND', 'ARE', 'ARG', 'ARM', 'ATG', '…"
      ]
     },
     "metadata": {},
     "output_type": "display_data"
    },
    {
     "data": {
      "application/vnd.jupyter.widget-view+json": {
       "model_id": "01e3fd2a78cd4f1daaf2626b67a168fe",
       "version_major": 2,
       "version_minor": 0
      },
      "text/plain": [
       "Dropdown(description='State:', index=6, options=('-1', 'AK', 'AL', 'AR', 'AS', 'AZ', 'CA', 'CO', 'CT', 'DC', '…"
      ]
     },
     "metadata": {},
     "output_type": "display_data"
    },
    {
     "data": {
      "application/vnd.jupyter.widget-view+json": {
       "model_id": "c878e50509284377a318b4df18531b00",
       "version_major": 2,
       "version_minor": 0
      },
      "text/plain": [
       "Dropdown(description='County:', options=('-1', 'Alameda County', 'Alpine County', 'Amador County', 'Butte Coun…"
      ]
     },
     "metadata": {},
     "output_type": "display_data"
    }
   ],
   "source": [
    "#country\n",
    "country_w = widgets.Dropdown(\n",
    "    options=dataTCS.index.levels[3],\n",
    "    value='USA',\n",
    "    description='Country:',\n",
    "    disabled=False,\n",
    ")\n",
    "\n",
    "#state\n",
    "#states=()\n",
    "def getStates(ctr):\n",
    "    idx    = pd.IndexSlice['-1','-1',:,ctr,\"cases\"]\n",
    "    g = dataTCS.loc[idx,:][dataTCS.loc[idx,\"date\"] == datetime.date(2020,4,1) ]\n",
    "    return np.sort([c[2] for c  in g.index.values])\n",
    "def updateStates_e(*args):\n",
    "    state_w.options = updateStates(country_w.value)\n",
    "    \n",
    "    print(state_w.options)\n",
    "print(getStates(\"USA\"))\n",
    "state_w = widgets.Dropdown(\n",
    "    options    = getStates(\"USA\"),#updateStates(country_w.value),\n",
    "    value      = 'CA',\n",
    "    description='State:',\n",
    "    disabled   = False,\n",
    ")\n",
    "country_w.observe(updateStates_e, 'value')\n",
    "def getCounties(country, state):\n",
    "    idx    = pd.IndexSlice['-1',:,state,country,\"cases\"]\n",
    "    g      = dataTCS.loc[idx,:][dataTCS.loc[idx,\"date\"] == datetime.date(2020,4,1) ]\n",
    "    return np.sort([c[1] for c  in g.index.values])\n",
    "def updateCounty_e(*args):\n",
    "    state_w.options = getCounties(country_w.value, county_w.value)\n",
    "\n",
    "county_w = widgets.Dropdown(\n",
    "    options    = getCounties(\"USA\",\"CA\"),\n",
    "    value      = '-1',\n",
    "    description='County:',\n",
    "    disabled   = False,\n",
    ")\n",
    "state_w.observe(updateCounty_e, 'value')\n",
    "\n",
    "\n",
    "\n",
    "interact(projector,\n",
    "        stype='cases',\n",
    "    city   ='-1',\n",
    "    county ='-1',\n",
    "    state =\"CA\",\n",
    "    country=\"USA\",\n",
    "    minCount = (0,1e5,1e2)\n",
    "        )"
   ]
  },
  {
   "cell_type": "code",
   "execution_count": 22,
   "metadata": {},
   "outputs": [
    {
     "data": {
      "text/plain": [
       "array(['-1', 'AK', 'AL', 'AR', 'AS', 'AZ', 'CA', 'CO', 'CT', 'DC', 'DE',\n",
       "       'FL', 'GA', 'GU', 'HI', 'IA', 'ID', 'IL', 'IN', 'KS', 'KY', 'LA',\n",
       "       'MA', 'MD', 'ME', 'MI', 'MN', 'MO', 'MP', 'MS', 'MT', 'NC', 'ND',\n",
       "       'NE', 'NH', 'NJ', 'NM', 'NV', 'NY', 'OH', 'OK', 'OR', 'PA', 'PR',\n",
       "       'RI', 'SC', 'SD', 'TN', 'TX', 'UT', 'VA', 'VI', 'VT', 'WA', 'WI',\n",
       "       'WV', 'WY'], dtype='<U2')"
      ]
     },
     "execution_count": 22,
     "metadata": {},
     "output_type": "execute_result"
    }
   ],
   "source": [
    "    idx    = pd.IndexSlice['-1','-1',:,\"USA\",\"cases\"]\n",
    "    g =dataTCS.loc[idx,:][dataTCS.loc[idx,\"date\"] == datetime.date(2020,4,1) ]\n",
    "    np.sort([c[2] for c  in g.index.values])"
   ]
  }
 ],
 "metadata": {
  "kernelspec": {
   "display_name": "Python 3",
   "language": "python",
   "name": "python3"
  },
  "language_info": {
   "codemirror_mode": {
    "name": "ipython",
    "version": 3
   },
   "file_extension": ".py",
   "mimetype": "text/x-python",
   "name": "python",
   "nbconvert_exporter": "python",
   "pygments_lexer": "ipython3",
   "version": "3.7.1"
  }
 },
 "nbformat": 4,
 "nbformat_minor": 2
}
