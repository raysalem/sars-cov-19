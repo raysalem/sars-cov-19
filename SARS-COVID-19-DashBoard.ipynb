{
 "cells": [
  {
   "cell_type": "code",
   "execution_count": 28,
   "metadata": {},
   "outputs": [
    {
     "name": "stdout",
     "output_type": "stream",
     "text": [
      "The autoreload extension is already loaded. To reload it, use:\n",
      "  %reload_ext autoreload\n"
     ]
    }
   ],
   "source": [
    "%load_ext autoreload\n",
    "%autoreload 2\n",
    "import datetime, urllib, re, math, json, requests,io\n",
    "from matplotlib import pyplot as plt\n",
    "import pandas as pd\n",
    "import numpy as np\n",
    "import scipy as sp\n",
    "from scipy import optimize\n",
    "import scipy.signal\n",
    "from sklearn.linear_model import LinearRegression\n",
    "from IPython.display import display, HTML\n",
    "from ipywidgets import *\n",
    "\n",
    "\n",
    "try:\n",
    "    from packaging import version\n",
    "except ImportError:\n",
    "    !pip install packaging\n",
    "\n",
    "if( version.parse(pd.__version__) < version.parse(\"0.23.4\")):\n",
    "    print(\"update pandas\")\n",
    "    !pip install pandas --upgrade #--ignore-installed\n",
    "    print(version.parse(pd.__version__))\n",
    "\n",
    "    \n",
    "plt.rcParams['figure.dpi'] = 200\n",
    "    \n",
    "import compute    "
   ]
  },
  {
   "cell_type": "code",
   "execution_count": 29,
   "metadata": {},
   "outputs": [
    {
     "name": "stderr",
     "output_type": "stream",
     "text": [
      "C:\\ProgramData\\Anaconda3\\lib\\site-packages\\IPython\\core\\interactiveshell.py:3020: DtypeWarning: Columns (2,3) have mixed types. Specify dtype option on import or set low_memory=False.\n",
      "  interactivity=interactivity, compiler=compiler, result=result)\n"
     ]
    }
   ],
   "source": [
    "#get the data\n",
    "df = pd.read_csv(\"https://coronadatascraper.com/timeseries-tidy.csv\")\n",
    "dataTCS =df.set_index([\"city\",\"county\",\"state\",\"country\",\"type\",\"level\"])\n",
    "dataTCS[\"date\"] = [datetime.datetime.strptime(ts,\"%Y-%m-%d\").date() for ts in dataTCS[\"date\"]]\n"
   ]
  },
  {
   "cell_type": "code",
   "execution_count": 30,
   "metadata": {},
   "outputs": [],
   "source": [
    "compute.dataTCS = dataTCS"
   ]
  },
  {
   "cell_type": "code",
   "execution_count": 34,
   "metadata": {
    "scrolled": false
   },
   "outputs": [
    {
     "data": {
      "application/vnd.jupyter.widget-view+json": {
       "model_id": "2f387dd662514bff85457ee483161bae",
       "version_major": 2,
       "version_minor": 0
      },
      "text/plain": [
       "interactive(children=(FloatSlider(value=5000.0, description='minCount', max=1000000.0, step=1000.0), Dropdown(…"
      ]
     },
     "metadata": {},
     "output_type": "display_data"
    }
   ],
   "source": [
    "import compute\n",
    "compute.dataTCS = dataTCS\n",
    "from ipywidgets import *\n",
    "\n",
    "\n",
    "\n",
    "def updateEqualizeTrg_e(*args):\n",
    "    equalizeTrg_w.options = getList(level_w.value,country_w.value)\n",
    "    equalizeTrg_w.value=equalizeTrg_w.options[0]\n",
    " \n",
    "\n",
    "def country_e(*args):\n",
    "    if(level_w.value==\"country\"):\n",
    "        country_w.options=[\"\"]\n",
    "        country_w.value  = \"\"\n",
    "    elif(level_w.value==\"state\"):\n",
    "        #must do option then value!\n",
    "        country_w.options = getList(\"country\")                \n",
    "        country_w.value   = \"United States\"\n",
    "        \n",
    " \n",
    "equalizeTrg_w = widgets.Dropdown(\n",
    "    options    = compute.getList(\"country\"),\n",
    "    value      = \"United States\",\n",
    "    description='equalizeTrg',\n",
    "    disabled   = False,\n",
    ")\n",
    "\n",
    "# parent for equalization, can be country or state\n",
    "# no parent if level is county\n",
    "country_w = widgets.Dropdown(\n",
    "    options    = compute.getList(\"country\"),\n",
    "    value      = \"United States\",\n",
    "    description='Country',\n",
    "    disabled   = False,\n",
    ")\n",
    "\n",
    "level_w = widgets.Dropdown(\n",
    "    options    = [\"country\",\"state\"],\n",
    "    value      = 'country',\n",
    "    description='level',\n",
    "    disabled   = False,\n",
    ")\n",
    "#when level changes update parent\n",
    "level_w.observe(country_e, 'value')\n",
    "#when level changes update equalize target (child of parent ie, country--> state)\n",
    "level_w.observe(updateEqualizeTrg_e)\n",
    "country_w.observe(updateEqualizeTrg_e)\n",
    "\n",
    "\n",
    "interact(compute.plotter,\n",
    "         minCount     = (0,1e6,1e3),\n",
    "         minCountKpi  = dataTCS.index.levels[4].unique().values,\n",
    "         equalizeTrg  = equalizeTrg_w,\n",
    "         level        = level_w,\n",
    "         equalizeCount= (0,10000),\n",
    "         country       = country_w,\n",
    "         plotKpi=dataTCS.index.levels[4].unique().values\n",
    "         ,xlim        = (-1,60)\n",
    "         ,ylim        = (-1,1e6)\n",
    "#         equalize=[True, False],         \n",
    "#         logyPlot=[True, False],        \n",
    "#         reference=[True,False]\n",
    "        );#countryStateSweep=dataTCS.index.levels[3].unique().values)"
   ]
  },
  {
   "cell_type": "code",
   "execution_count": 32,
   "metadata": {
    "scrolled": false
   },
   "outputs": [
    {
     "data": {
      "application/vnd.jupyter.widget-view+json": {
       "model_id": "0ac9523b5e344cf1abb39d4ed4b0f9b3",
       "version_major": 2,
       "version_minor": 0
      },
      "text/plain": [
       "interactive(children=(Text(value='United States', description='country'), Dropdown(description='level', index=…"
      ]
     },
     "metadata": {},
     "output_type": "display_data"
    }
   ],
   "source": [
    "import compute\n",
    "compute.dataTCS = dataTCS\n",
    "country = \"United States\"\n",
    "level   = \"state\"\n",
    "numRows = 12\n",
    "interact(\n",
    "    compute.table_gen,\n",
    "    country=\"United States\",\n",
    "    level = [\"country\",\"state\"], \n",
    "    numRows=(3,50,1));\n",
    "# country -> user period to combine states acorss countries"
   ]
  },
  {
   "cell_type": "code",
   "execution_count": 25,
   "metadata": {
    "scrolled": false
   },
   "outputs": [
    {
     "data": {
      "application/vnd.jupyter.widget-view+json": {
       "model_id": "8400f103e6f74e668ce61d437a556447",
       "version_major": 2,
       "version_minor": 0
      },
      "text/plain": [
       "interactive(children=(Dropdown(description='stype', index=1, options=('active', 'cases', 'deaths', 'growthFact…"
      ]
     },
     "metadata": {},
     "output_type": "display_data"
    }
   ],
   "source": [
    "import compute\n",
    "compute.dataTCS = dataTCS\n",
    "from ipywidgets import *\n",
    "\n",
    "#country\n",
    "level_w = widgets.Dropdown(\n",
    "    options=[\"country\",\"state\",\"county\"],\n",
    "    value='state',\n",
    "    description='level',\n",
    "    disabled=False,\n",
    ")\n",
    "target_w = widgets.Dropdown(\n",
    "    options    = compute.getList(level_w.value),\n",
    "    value      = compute.getList(level_w.value)[15],\n",
    "    description= 'State',\n",
    "    disabled   = False,\n",
    ")\n",
    "\n",
    "def target_e(*args):\n",
    "    target_w.options = compute.getList(level_w.value)\n",
    "\n",
    "\n",
    "level_w.observe(target_e, 'value')\n",
    "\n",
    "\n",
    "\n",
    "interact(compute.projector,\n",
    "    stype   = dataTCS.index.levels[4],\n",
    "    level   = level_w,\n",
    "    target  = target_w,    \n",
    "    minCount= (0,1e5,1e2) );"
   ]
  }
 ],
 "metadata": {
  "kernelspec": {
   "display_name": "Python 3",
   "language": "python",
   "name": "python3"
  },
  "language_info": {
   "codemirror_mode": {
    "name": "ipython",
    "version": 3
   },
   "file_extension": ".py",
   "mimetype": "text/x-python",
   "name": "python",
   "nbconvert_exporter": "python",
   "pygments_lexer": "ipython3",
   "version": "3.7.1"
  }
 },
 "nbformat": 4,
 "nbformat_minor": 2
}
